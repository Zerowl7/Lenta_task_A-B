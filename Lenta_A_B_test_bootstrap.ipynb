{
 "cells": [
  {
   "attachments": {
    "image.png": {
     "image/png": "[encoded data removed]"
    }
   },
   "cell_type": "markdown",
   "id": "f512c180",
   "metadata": {},
   "source": [
    "Был проведен A/B тест, в котором группе B выдавалось персональное предложение в приложении Лента. Результаты A/B теста следующие:\n",
    "![image.png](attachment:image.png)\n",
    "Задание:\n",
    "• Какие условия необходимо проверить для корректного сравнения групп.\n",
    "\n",
    "• Какие можно сделать выводы.\n"
   ]
  },
  {
   "cell_type": "markdown",
   "id": "b024cd05",
   "metadata": {},
   "source": []
  },
  {
   "cell_type": "code",
   "execution_count": 44,
   "id": "7d0a376a",
   "metadata": {},
   "outputs": [],
   "source": [
    "import pandas as pd\n",
    "import numpy as np\n",
    "import matplotlib.pyplot as plt\n",
    "from scipy.stats import norm as sp\n",
    "\n",
    "plt.style.use('dark_background')"
   ]
  },
  {
   "cell_type": "markdown",
   "id": "99d20f56",
   "metadata": {},
   "source": [
    "СДелаем это в питоне"
   ]
  },
  {
   "cell_type": "code",
   "execution_count": 6,
   "id": "57dfcffc",
   "metadata": {},
   "outputs": [],
   "source": [
    "# assign values to lists  \n",
    "data = [{'group': \"A\", 'sample_size': 50000, \"events\":2500, \"aov\":1200, \"var\":1600, \"conv\": 0.500}, \n",
    "        {'group': \"B\", 'sample_size': 20000, \"events\":10500, \"aov\":1300, \"var\":1800, \"conv\": 0.525}]\n",
    "# Lists of dictionaries and row index.  \n",
    "df = pd.DataFrame(data, index =['0', '1'])  "
   ]
  },
  {
   "cell_type": "code",
   "execution_count": 7,
   "id": "78f7419c",
   "metadata": {},
   "outputs": [
    {
     "data": {
      "text/html": [
       "<div>\n",
       "<style scoped>\n",
       "    .dataframe tbody tr th:only-of-type {\n",
       "        vertical-align: middle;\n",
       "    }\n",
       "\n",
       "    .dataframe tbody tr th {\n",
       "        vertical-align: top;\n",
       "    }\n",
       "\n",
       "    .dataframe thead th {\n",
       "        text-align: right;\n",
       "    }\n",
       "</style>\n",
       "<table border=\"1\" class=\"dataframe\">\n",
       "  <thead>\n",
       "    <tr style=\"text-align: right;\">\n",
       "      <th></th>\n",
       "      <th>group</th>\n",
       "      <th>sample_size</th>\n",
       "      <th>events</th>\n",
       "      <th>aov</th>\n",
       "      <th>var</th>\n",
       "      <th>conv</th>\n",
       "    </tr>\n",
       "  </thead>\n",
       "  <tbody>\n",
       "    <tr>\n",
       "      <th>0</th>\n",
       "      <td>A</td>\n",
       "      <td>50000</td>\n",
       "      <td>2500</td>\n",
       "      <td>1200</td>\n",
       "      <td>1600</td>\n",
       "      <td>0.500</td>\n",
       "    </tr>\n",
       "    <tr>\n",
       "      <th>1</th>\n",
       "      <td>B</td>\n",
       "      <td>20000</td>\n",
       "      <td>10500</td>\n",
       "      <td>1300</td>\n",
       "      <td>1800</td>\n",
       "      <td>0.525</td>\n",
       "    </tr>\n",
       "  </tbody>\n",
       "</table>\n",
       "</div>"
      ],
      "text/plain": [
       "  group  sample_size  events   aov   var   conv\n",
       "0     A        50000    2500  1200  1600  0.500\n",
       "1     B        20000   10500  1300  1800  0.525"
      ]
     },
     "execution_count": 7,
     "metadata": {},
     "output_type": "execute_result"
    }
   ],
   "source": [
    "df"
   ]
  },
  {
   "cell_type": "code",
   "execution_count": 40,
   "id": "c15e3893",
   "metadata": {},
   "outputs": [],
   "source": [
    "def two_histograms(x, y, bins):\n",
    "    #Веса гистограммы\n",
    "    x.hist(alpha=0.5, weights= [1./len(x)]*len(x), bins = bins)\n",
    "    y.hist(alpha=0.5, weights= [1./len(y)]*len(y), bins = bins)\n",
    "    \n",
    "    #Добавляем вертикальную линию по осям пунктирная линия\n",
    "    plt.axvline(x.mean(), color =\"red\", alpha = 0.8, linestyle= \"dashed\")\n",
    "    plt.axvline(y.mean(), color =\"blue\", alpha = 0.8, linestyle= \"dashed\")\n",
    "    \n",
    "    #Легенда\n",
    "    plt.legend([x.name, y.name])"
   ]
  },
  {
   "cell_type": "code",
   "execution_count": 59,
   "id": "ab56038b",
   "metadata": {},
   "outputs": [],
   "source": [
    "import scipy as sp"
   ]
  },
  {
   "cell_type": "code",
   "execution_count": 60,
   "id": "d285fd32",
   "metadata": {
    "scrolled": true
   },
   "outputs": [],
   "source": [
    "x = pd.Series(sp.stats.norm.rvs(loc=1200, scale=1600**(1/2), size=2500))\n",
    "y = pd.Series(sp.stats.norm.rvs(loc=1300, scale=1800**(1/2), size=10500))\n",
    "x.name, y.name = 'A', 'B'"
   ]
  },
  {
   "cell_type": "code",
   "execution_count": 61,
   "id": "8f60fcc4",
   "metadata": {},
   "outputs": [
    {
     "data": {
      "text/plain": [
       "40.0"
      ]
     },
     "execution_count": 61,
     "metadata": {},
     "output_type": "execute_result"
    }
   ],
   "source": [
    "1600**(1/2)"
   ]
  },
  {
   "cell_type": "code",
   "execution_count": 62,
   "id": "dc0591ff",
   "metadata": {},
   "outputs": [
    {
     "data": {
      "text/plain": [
       "42.42640687119285"
      ]
     },
     "execution_count": 62,
     "metadata": {},
     "output_type": "execute_result"
    }
   ],
   "source": [
    "1800**(1/2)"
   ]
  },
  {
   "cell_type": "code",
   "execution_count": 63,
   "id": "ac0df9ba",
   "metadata": {},
   "outputs": [
    {
     "data": {
      "image/png": "[encoded data removed]",
      "text/plain": [
       "<Figure size 432x288 with 1 Axes>"
      ]
     },
     "metadata": {},
     "output_type": "display_data"
    }
   ],
   "source": [
    "two_histograms(x,y,100)"
   ]
  },
  {
   "cell_type": "markdown",
   "id": "9cc6b5be",
   "metadata": {},
   "source": [
    "Задача 3\n",
    "В компании запустилась новая акция на постоянную дополнительную скидку X% ко всему чеку за выполнение определенных условий. Большая часть клиентов получила дополнительную скидку одномоментно в первый месяц акции, остальные клиенты добавлялись постепенно в течение года. Также каждый месяц часть клиентов прекращала совершать покупки в сети. Все клиенты имеют достаточно длинный профиль потребления на предпериоде (до получения доп. скидки). Необходимо оценить эффективность запущенной акции за год с разбивкой по месяцам.\n",
    "Опишите, как бы вы строили подход к оценке эффекта, какие вы видите сложности при использовании того или иного подхода?\n"
   ]
  },
  {
   "cell_type": "code",
   "execution_count": null,
   "id": "d84fb70d",
   "metadata": {},
   "outputs": [],
   "source": []
  }
 ],
 "metadata": {
  "kernelspec": {
   "display_name": "Python 3 (ipykernel)",
   "language": "python",
   "name": "python3"
  },
  "language_info": {
   "codemirror_mode": {
    "name": "ipython",
    "version": 3
   },
   "file_extension": ".py",
   "mimetype": "text/x-python",
   "name": "python",
   "nbconvert_exporter": "python",
   "pygments_lexer": "ipython3",
   "version": "3.9.7"
  },
  "varInspector": {
   "cols": {
    "lenName": 16,
    "lenType": 16,
    "lenVar": 40
   },
   "kernels_config": {
    "python": {
     "delete_cmd_postfix": "",
     "delete_cmd_prefix": "del ",
     "library": "var_list.py",
     "varRefreshCmd": "print(var_dic_list())"
    },
    "r": {
     "delete_cmd_postfix": ") ",
     "delete_cmd_prefix": "rm(",
     "library": "var_list.r",
     "varRefreshCmd": "cat(var_dic_list()) "
    }
   },
   "types_to_exclude": [
    "module",
    "function",
    "builtin_function_or_method",
    "instance",
    "_Feature"
   ],
   "window_display": false
  }
 },
 "nbformat": 4,
 "nbformat_minor": 5
}
